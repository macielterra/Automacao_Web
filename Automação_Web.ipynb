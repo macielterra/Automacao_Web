{
 "cells": [
  {
   "cell_type": "markdown",
   "metadata": {},
   "source": [
    "# Automação Web e Busca de Informações com Python\n",
    "\n",
    "#### Desafio: \n",
    "\n",
    "Trabalhamos em uma importadora e o preço dos nossos produtos é vinculado a cotação de:\n",
    "- Dólar\n",
    "- Euro\n",
    "- Ouro\n",
    "\n",
    "Precisamos pegar na internet, de forma automática, a cotação desses 3 itens e saber quanto devemos cobrar pelos nossos produtos, considerando uma margem de contribuição que temos na nossa base de dados.\n",
    "\n",
    "Base de Dados: https://drive.google.com/drive/folders/1KmAdo593nD8J9QBaZxPOG1yxHZua4Rtv?usp=sharing\n",
    "\n",
    "Para isso, vamos criar uma automação web:\n",
    "\n",
    "- Usaremos o selenium\n",
    "- Importante: baixar o webdriver"
   ]
  },
  {
   "cell_type": "code",
   "execution_count": 1,
   "metadata": {},
   "outputs": [
    {
     "name": "stdout",
     "output_type": "stream",
     "text": [
      "Requirement already satisfied: selenium in c:\\users\\administrador\\appdata\\local\\programs\\python\\python39\\lib\\site-packages (3.141.0)\n",
      "Requirement already satisfied: urllib3 in c:\\users\\administrador\\appdata\\local\\programs\\python\\python39\\lib\\site-packages (from selenium) (1.26.7)\n"
     ]
    }
   ],
   "source": [
    "# Passo 1 : Pegar Cotação do Dólar\n",
    "# Passo 2 : Pegar Cotação do Euro\n",
    "# Passo 3 : Pegar Cotação do Ouro\n",
    "# Passo 4 : Importar a Base de Dados\n",
    "# Passo 5 : Atualizar a Cotação, o Preço de Compra e Preço de Venda\n",
    "# Passo 6 : Exportar o Relatório Atualizado\n",
    "\n",
    "# Instalar o Selenium\n",
    "# Baixar o WebDriver\n",
    "\n",
    "!pip install selenium"
   ]
  },
  {
   "cell_type": "code",
   "execution_count": 2,
   "metadata": {},
   "outputs": [
    {
     "name": "stdout",
     "output_type": "stream",
     "text": [
      "Cotação do Dólar:  5.5152\n"
     ]
    }
   ],
   "source": [
    "from selenium import webdriver\n",
    "from selenium.webdriver.common.keys import Keys\n",
    "\n",
    "browser = webdriver.Chrome(\"chromedriver.exe\")\n",
    "# Passo 1: Pegar a Cotação do Dólar\n",
    "# Entrar no site do Google\n",
    "browser.get(\"https://google.com/\")\n",
    "# Pesquisar o valor do Dólar\n",
    "browser.find_element_by_xpath('/html/body/div[1]/div[3]/form/div[1]/div[1]/div[1]/div/div[2]/input').send_keys(\"cotação dólar\")\n",
    "browser.find_element_by_xpath('/html/body/div[1]/div[3]/form/div[1]/div[1]/div[1]/div/div[2]/input').send_keys(Keys.ENTER)\n",
    "# Pegar a cotação da página do Google\n",
    "dolar = browser.find_element_by_xpath('//*[@id=\"knowledge-currency__updatable-data-column\"]/div[1]/div[2]/span[1]').get_attribute(\"data-value\")\n",
    "print(\"Cotação do Dólar: \" ,dolar)"
   ]
  },
  {
   "cell_type": "code",
   "execution_count": 3,
   "metadata": {},
   "outputs": [
    {
     "name": "stdout",
     "output_type": "stream",
     "text": [
      "Cotação do Euro:  6.382350466\n"
     ]
    }
   ],
   "source": [
    "# Passo 2 : Pegar Cotação do Euro\n",
    "# Entrar no site do Google\n",
    "browser.get(\"https://google.com/\")\n",
    "browser.find_element_by_xpath('/html/body/div[1]/div[3]/form/div[1]/div[1]/div[1]/div/div[2]/input').send_keys(\"cotação euro\")\n",
    "browser.find_element_by_xpath('/html/body/div[1]/div[3]/form/div[1]/div[1]/div[1]/div/div[2]/input').send_keys(Keys.ENTER)\n",
    "euro = browser.find_element_by_xpath('//*[@id=\"knowledge-currency__updatable-data-column\"]/div[1]/div[2]/span[1]').get_attribute(\"data-value\")\n",
    "print(\"Cotação do Euro: \" ,euro)"
   ]
  },
  {
   "cell_type": "code",
   "execution_count": 4,
   "metadata": {},
   "outputs": [
    {
     "name": "stdout",
     "output_type": "stream",
     "text": [
      "Cotação do Ouro:  311.70\n"
     ]
    }
   ],
   "source": [
    "# Passo 2 : Pegar Cotação do Ouro\n",
    "# Entrar no site do Google\n",
    "browser.get(\"https://www.melhorcambio.com/ouro-hoje\")\n",
    "ouro = browser.find_element_by_xpath('//*[@id=\"comercial\"]').get_attribute(\"value\")\n",
    "ouro = ouro.replace(\",\",\".\")\n",
    "print(\"Cotação do Ouro: \" ,ouro)"
   ]
  },
  {
   "cell_type": "code",
   "execution_count": 5,
   "metadata": {},
   "outputs": [
    {
     "name": "stdout",
     "output_type": "stream",
     "text": [
      "         Produtos  Preço Base Original  Moeda  Cotação  Preço Base Reais  \\\n",
      "0    Câmera Canon               999.99  Dólar        5           4999.95   \n",
      "1   Carro Renault              4500.00   Euro        6          27000.00   \n",
      "2   Notebook Dell               899.99  Dólar        5           4499.95   \n",
      "3          IPhone               799.00  Dólar        5           3995.00   \n",
      "4      Carro Fiat              3000.00   Euro        6          18000.00   \n",
      "5  Celular Xiaomi               480.48  Dólar        5           2402.40   \n",
      "6        Joia 20g                20.00   Ouro      350           7000.00   \n",
      "\n",
      "   Margem  Preço Final  \n",
      "0    1.40     6999.930  \n",
      "1    2.00    54000.000  \n",
      "2    1.70     7649.915  \n",
      "3    1.70     6791.500  \n",
      "4    1.90    34200.000  \n",
      "5    2.00     4804.800  \n",
      "6    1.15     8050.000  \n"
     ]
    }
   ],
   "source": [
    "# Passo 4 : Importar a Base de Dados\n",
    "import pandas as pd\n",
    "\n",
    "df = pd.read_excel(\"Produtos.xlsx\")\n",
    "print(df)"
   ]
  },
  {
   "cell_type": "code",
   "execution_count": 6,
   "metadata": {},
   "outputs": [],
   "source": [
    "# Passo 5 : Atualizar a Cotação \n",
    "# Atualizar tabela\n",
    "\n",
    "df.loc[df[\"Moeda\"] == \"Dólar\", \"Cotação\"] = float(dolar)\n",
    "df.loc[df[\"Moeda\"] == \"Euro\", \"Cotação\"] = float(euro)\n",
    "df.loc[df[\"Moeda\"] == \"Ouro\", \"Cotação\"] = float(ouro)"
   ]
  },
  {
   "cell_type": "code",
   "execution_count": 7,
   "metadata": {},
   "outputs": [],
   "source": [
    "# Atualizar o Preço de Compra e Preço de Venda * Cotação\n",
    "df[\"Preço Base Reais\"] = df[\"Preço Base Original\"] * df[\"Cotação\"]\n"
   ]
  },
  {
   "cell_type": "code",
   "execution_count": 8,
   "metadata": {},
   "outputs": [
    {
     "name": "stdout",
     "output_type": "stream",
     "text": [
      "         Produtos  Preço Base Original  Moeda    Cotação  Preço Base Reais  \\\n",
      "0    Câmera Canon               999.99  Dólar    5.51520       5515.144848   \n",
      "1   Carro Renault              4500.00   Euro    6.38235      28720.577097   \n",
      "2   Notebook Dell               899.99  Dólar    5.51520       4963.624848   \n",
      "3          IPhone               799.00  Dólar    5.51520       4406.644800   \n",
      "4      Carro Fiat              3000.00   Euro    6.38235      19147.051398   \n",
      "5  Celular Xiaomi               480.48  Dólar    5.51520       2649.943296   \n",
      "6        Joia 20g                20.00   Ouro  311.70000       6234.000000   \n",
      "\n",
      "   Margem   Preço Final  \n",
      "0    1.40   7721.202787  \n",
      "1    2.00  57441.154194  \n",
      "2    1.70   8438.162242  \n",
      "3    1.70   7491.296160  \n",
      "4    1.90  36379.397656  \n",
      "5    2.00   5299.886592  \n",
      "6    1.15   7169.100000  \n",
      "         Produtos  Preço Base Original  Moeda    Cotação  Preço Base Reais  \\\n",
      "0    Câmera Canon               999.99  Dólar    5.51520       5515.144848   \n",
      "1   Carro Renault              4500.00   Euro    6.38235      28720.577097   \n",
      "2   Notebook Dell               899.99  Dólar    5.51520       4963.624848   \n",
      "3          IPhone               799.00  Dólar    5.51520       4406.644800   \n",
      "4      Carro Fiat              3000.00   Euro    6.38235      19147.051398   \n",
      "5  Celular Xiaomi               480.48  Dólar    5.51520       2649.943296   \n",
      "6        Joia 20g                20.00   Ouro  311.70000       6234.000000   \n",
      "\n",
      "   Margem    Preço Final  \n",
      "0    1.40   $7721.202787  \n",
      "1    2.00  $57441.154194  \n",
      "2    1.70   $8438.162242  \n",
      "3    1.70   $7491.296160  \n",
      "4    1.90  $36379.397656  \n",
      "5    2.00   $5299.886592  \n",
      "6    1.15   $7169.100000  \n"
     ]
    }
   ],
   "source": [
    "# Atualizar o Preço de Venda - Preço de Compra * Margem\n",
    "df[\"Preço Final\"] = df[\"Preço Base Reais\"] * df[\"Margem\"]\n",
    "print(df)\n",
    "\n",
    "df[\"Preço Final\"] = df[\"Preço Final\"].map(\"${:2f}\".format)\n",
    "print(df)"
   ]
  },
  {
   "cell_type": "code",
   "execution_count": 9,
   "metadata": {},
   "outputs": [],
   "source": [
    "# Passo 6 : Exportar o Relatório Atualizado\n",
    "df.to_excel(\"Produtos_Atualizados.xlsx\", index=False)\n",
    "browser.quit()"
   ]
  }
 ],
 "metadata": {
  "interpreter": {
   "hash": "99895b1fb5777b62bbca485c28947babc49174d82e5a9d257e359cdc2b435eee"
  },
  "kernelspec": {
   "display_name": "Python 3.9.6 64-bit",
   "name": "python3"
  },
  "language_info": {
   "codemirror_mode": {
    "name": "ipython",
    "version": 3
   },
   "file_extension": ".py",
   "mimetype": "text/x-python",
   "name": "python",
   "nbconvert_exporter": "python",
   "pygments_lexer": "ipython3",
   "version": "3.9.6"
  }
 },
 "nbformat": 4,
 "nbformat_minor": 5
}
